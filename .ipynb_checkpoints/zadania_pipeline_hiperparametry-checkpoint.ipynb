{
 "cells": [
  {
   "cell_type": "markdown",
   "id": "44f3a574",
   "metadata": {},
   "source": [
    "Na potrzeby realizacji dwóch zadań:\n",
    "- pn. 'Pipeline' z modułu 16, submodułu 16.5 oraz\n",
    "- pn. 'hiperparametry' z modułu 16, submodułu 16.6\n",
    "\n",
    "wykorzystałam zbiór danych o chorych na cukrzycę z modułu 14 \"Supervised Learning - klasyfikacja\" (zbiór zawiera informacje diagnostyczne dotyczące pacjentów, u których wykonano badania w kierunku cukrzycy).\n",
    "\n",
    "Oba zadania realizuję w ramach jednego pliku/projektu, który zamieściłam na GitHub."
   ]
  },
  {
   "cell_type": "markdown",
   "id": "764afa3b",
   "metadata": {},
   "source": [
    "# Zadanie 'Pipeline'"
   ]
  },
  {
   "cell_type": "markdown",
   "id": "1ac6490d",
   "metadata": {},
   "source": [
    "Import bibliotek"
   ]
  },
  {
   "cell_type": "code",
   "execution_count": null,
   "id": "7cda32fa",
   "metadata": {},
   "outputs": [],
   "source": [
    "import numpy as np\n",
    "import pandas as pd\n",
    "import matplotlib.pyplot as plt\n",
    "import seaborn as sns\n",
    "from sklearn.model_selection import train_test_split, GridSearchCV\n",
    "from sklearn.pipeline import FeatureUnion, Pipeline\n",
    "from sklearn.base import BaseEstimator, TransformerMixin\n",
    "from sklearn.compose import ColumnTransformer\n",
    "from sklearn.impute import SimpleImputer\n",
    "from sklearn.preprocessing import OneHotEncoder, StandardScaler, PolynomialFeatures, PowerTransformer\n",
    "from sklearn.decomposition import PCA\n",
    "from sklearn.linear_model import LogisticRegression\n",
    "from sklearn.metrics import classification_report, confusion_matrix, roc_curve, f1_score, roc_auc_score"
   ]
  },
  {
   "cell_type": "markdown",
   "id": "0a841ec8",
   "metadata": {},
   "source": [
    "Zaimportowanie zbioru danych"
   ]
  },
  {
   "cell_type": "code",
   "execution_count": 3,
   "id": "ee514f72",
   "metadata": {},
   "outputs": [
    {
     "data": {
      "text/html": [
       "<div>\n",
       "<style scoped>\n",
       "    .dataframe tbody tr th:only-of-type {\n",
       "        vertical-align: middle;\n",
       "    }\n",
       "\n",
       "    .dataframe tbody tr th {\n",
       "        vertical-align: top;\n",
       "    }\n",
       "\n",
       "    .dataframe thead th {\n",
       "        text-align: right;\n",
       "    }\n",
       "</style>\n",
       "<table border=\"1\" class=\"dataframe\">\n",
       "  <thead>\n",
       "    <tr style=\"text-align: right;\">\n",
       "      <th></th>\n",
       "      <th>PatientID</th>\n",
       "      <th>Pregnancies</th>\n",
       "      <th>PlasmaGlucose</th>\n",
       "      <th>DiastolicBloodPressure</th>\n",
       "      <th>TricepsThickness</th>\n",
       "      <th>SerumInsulin</th>\n",
       "      <th>BMI</th>\n",
       "      <th>DiabetesPedigree</th>\n",
       "      <th>Age</th>\n",
       "      <th>Diabetic</th>\n",
       "    </tr>\n",
       "  </thead>\n",
       "  <tbody>\n",
       "    <tr>\n",
       "      <th>0</th>\n",
       "      <td>1354778</td>\n",
       "      <td>0</td>\n",
       "      <td>171</td>\n",
       "      <td>80</td>\n",
       "      <td>34</td>\n",
       "      <td>23</td>\n",
       "      <td>43.509726</td>\n",
       "      <td>1.213191</td>\n",
       "      <td>21</td>\n",
       "      <td>0</td>\n",
       "    </tr>\n",
       "    <tr>\n",
       "      <th>1</th>\n",
       "      <td>1147438</td>\n",
       "      <td>8</td>\n",
       "      <td>92</td>\n",
       "      <td>93</td>\n",
       "      <td>47</td>\n",
       "      <td>36</td>\n",
       "      <td>21.240576</td>\n",
       "      <td>0.158365</td>\n",
       "      <td>23</td>\n",
       "      <td>0</td>\n",
       "    </tr>\n",
       "    <tr>\n",
       "      <th>2</th>\n",
       "      <td>1640031</td>\n",
       "      <td>7</td>\n",
       "      <td>115</td>\n",
       "      <td>47</td>\n",
       "      <td>52</td>\n",
       "      <td>35</td>\n",
       "      <td>41.511523</td>\n",
       "      <td>0.079019</td>\n",
       "      <td>23</td>\n",
       "      <td>0</td>\n",
       "    </tr>\n",
       "    <tr>\n",
       "      <th>3</th>\n",
       "      <td>1883350</td>\n",
       "      <td>9</td>\n",
       "      <td>103</td>\n",
       "      <td>78</td>\n",
       "      <td>25</td>\n",
       "      <td>304</td>\n",
       "      <td>29.582192</td>\n",
       "      <td>1.282870</td>\n",
       "      <td>43</td>\n",
       "      <td>1</td>\n",
       "    </tr>\n",
       "    <tr>\n",
       "      <th>4</th>\n",
       "      <td>1424119</td>\n",
       "      <td>1</td>\n",
       "      <td>85</td>\n",
       "      <td>59</td>\n",
       "      <td>27</td>\n",
       "      <td>35</td>\n",
       "      <td>42.604536</td>\n",
       "      <td>0.549542</td>\n",
       "      <td>22</td>\n",
       "      <td>0</td>\n",
       "    </tr>\n",
       "    <tr>\n",
       "      <th>...</th>\n",
       "      <td>...</td>\n",
       "      <td>...</td>\n",
       "      <td>...</td>\n",
       "      <td>...</td>\n",
       "      <td>...</td>\n",
       "      <td>...</td>\n",
       "      <td>...</td>\n",
       "      <td>...</td>\n",
       "      <td>...</td>\n",
       "      <td>...</td>\n",
       "    </tr>\n",
       "    <tr>\n",
       "      <th>14995</th>\n",
       "      <td>1490300</td>\n",
       "      <td>10</td>\n",
       "      <td>65</td>\n",
       "      <td>60</td>\n",
       "      <td>46</td>\n",
       "      <td>177</td>\n",
       "      <td>33.512468</td>\n",
       "      <td>0.148327</td>\n",
       "      <td>41</td>\n",
       "      <td>1</td>\n",
       "    </tr>\n",
       "    <tr>\n",
       "      <th>14996</th>\n",
       "      <td>1744410</td>\n",
       "      <td>2</td>\n",
       "      <td>73</td>\n",
       "      <td>66</td>\n",
       "      <td>27</td>\n",
       "      <td>168</td>\n",
       "      <td>30.132636</td>\n",
       "      <td>0.862252</td>\n",
       "      <td>38</td>\n",
       "      <td>1</td>\n",
       "    </tr>\n",
       "    <tr>\n",
       "      <th>14997</th>\n",
       "      <td>1742742</td>\n",
       "      <td>0</td>\n",
       "      <td>93</td>\n",
       "      <td>89</td>\n",
       "      <td>43</td>\n",
       "      <td>57</td>\n",
       "      <td>18.690683</td>\n",
       "      <td>0.427049</td>\n",
       "      <td>24</td>\n",
       "      <td>0</td>\n",
       "    </tr>\n",
       "    <tr>\n",
       "      <th>14998</th>\n",
       "      <td>1099353</td>\n",
       "      <td>0</td>\n",
       "      <td>132</td>\n",
       "      <td>98</td>\n",
       "      <td>18</td>\n",
       "      <td>161</td>\n",
       "      <td>19.791645</td>\n",
       "      <td>0.302257</td>\n",
       "      <td>23</td>\n",
       "      <td>0</td>\n",
       "    </tr>\n",
       "    <tr>\n",
       "      <th>14999</th>\n",
       "      <td>1386396</td>\n",
       "      <td>3</td>\n",
       "      <td>114</td>\n",
       "      <td>65</td>\n",
       "      <td>47</td>\n",
       "      <td>512</td>\n",
       "      <td>36.215437</td>\n",
       "      <td>0.147363</td>\n",
       "      <td>34</td>\n",
       "      <td>1</td>\n",
       "    </tr>\n",
       "  </tbody>\n",
       "</table>\n",
       "<p>15000 rows × 10 columns</p>\n",
       "</div>"
      ],
      "text/plain": [
       "       PatientID  Pregnancies  PlasmaGlucose  DiastolicBloodPressure  \\\n",
       "0        1354778            0            171                      80   \n",
       "1        1147438            8             92                      93   \n",
       "2        1640031            7            115                      47   \n",
       "3        1883350            9            103                      78   \n",
       "4        1424119            1             85                      59   \n",
       "...          ...          ...            ...                     ...   \n",
       "14995    1490300           10             65                      60   \n",
       "14996    1744410            2             73                      66   \n",
       "14997    1742742            0             93                      89   \n",
       "14998    1099353            0            132                      98   \n",
       "14999    1386396            3            114                      65   \n",
       "\n",
       "       TricepsThickness  SerumInsulin        BMI  DiabetesPedigree  Age  \\\n",
       "0                    34            23  43.509726          1.213191   21   \n",
       "1                    47            36  21.240576          0.158365   23   \n",
       "2                    52            35  41.511523          0.079019   23   \n",
       "3                    25           304  29.582192          1.282870   43   \n",
       "4                    27            35  42.604536          0.549542   22   \n",
       "...                 ...           ...        ...               ...  ...   \n",
       "14995                46           177  33.512468          0.148327   41   \n",
       "14996                27           168  30.132636          0.862252   38   \n",
       "14997                43            57  18.690683          0.427049   24   \n",
       "14998                18           161  19.791645          0.302257   23   \n",
       "14999                47           512  36.215437          0.147363   34   \n",
       "\n",
       "       Diabetic  \n",
       "0             0  \n",
       "1             0  \n",
       "2             0  \n",
       "3             1  \n",
       "4             0  \n",
       "...         ...  \n",
       "14995         1  \n",
       "14996         1  \n",
       "14997         0  \n",
       "14998         0  \n",
       "14999         1  \n",
       "\n",
       "[15000 rows x 10 columns]"
      ]
     },
     "execution_count": 3,
     "metadata": {},
     "output_type": "execute_result"
    }
   ],
   "source": [
    "dataset = pd.read_csv('diabetes.csv')\n",
    "dataset"
   ]
  },
  {
   "cell_type": "markdown",
   "id": "4f0bd8b7",
   "metadata": {},
   "source": [
    "Sprawdzenie kompletności danych"
   ]
  },
  {
   "cell_type": "code",
   "execution_count": 4,
   "id": "e6aa8cb5",
   "metadata": {},
   "outputs": [
    {
     "name": "stdout",
     "output_type": "stream",
     "text": [
      "<class 'pandas.core.frame.DataFrame'>\n",
      "RangeIndex: 15000 entries, 0 to 14999\n",
      "Data columns (total 10 columns):\n",
      " #   Column                  Non-Null Count  Dtype  \n",
      "---  ------                  --------------  -----  \n",
      " 0   PatientID               15000 non-null  int64  \n",
      " 1   Pregnancies             15000 non-null  int64  \n",
      " 2   PlasmaGlucose           15000 non-null  int64  \n",
      " 3   DiastolicBloodPressure  15000 non-null  int64  \n",
      " 4   TricepsThickness        15000 non-null  int64  \n",
      " 5   SerumInsulin            15000 non-null  int64  \n",
      " 6   BMI                     15000 non-null  float64\n",
      " 7   DiabetesPedigree        15000 non-null  float64\n",
      " 8   Age                     15000 non-null  int64  \n",
      " 9   Diabetic                15000 non-null  int64  \n",
      "dtypes: float64(2), int64(8)\n",
      "memory usage: 1.1 MB\n"
     ]
    }
   ],
   "source": [
    "dataset.info()"
   ]
  },
  {
   "cell_type": "markdown",
   "id": "f20ff04b",
   "metadata": {},
   "source": [
    "Z powyższego wynika, że dane są kompletne"
   ]
  },
  {
   "cell_type": "markdown",
   "id": "79fc892a",
   "metadata": {},
   "source": [
    "Podział danych na zbiór treningowy oraz testowy. Zmienną objaśnianą (y) jest informacja o tym czy dany pacjent jest chory na cukrzycę, czy nie (kolumna 'Diabetic'; wartość '0' - nie chory, wartość '1' - chory)"
   ]
  },
  {
   "cell_type": "code",
   "execution_count": 26,
   "id": "ae771576",
   "metadata": {},
   "outputs": [],
   "source": [
    "X = dataset.drop(['Diabetic'], axis=1).copy()\n",
    "y = dataset['Diabetic'].copy()\n",
    "X_train, X_test, y_train, y_test = train_test_split(X, y, test_size=0.25, random_state=42, stratify=y)"
   ]
  },
  {
   "cell_type": "markdown",
   "id": "f79bfa14",
   "metadata": {},
   "source": [
    "Wskazanie kolumn z danymi numerycznymi"
   ]
  },
  {
   "cell_type": "code",
   "execution_count": 30,
   "id": "23961eda",
   "metadata": {},
   "outputs": [],
   "source": [
    "num_features1 = ['Pregnancies', 'PlasmaGlucose', 'DiastolicBloodPressure', 'TricepsThickness', 'SerumInsulin', 'BMI', 'DiabetesPedigree', 'Age']"
   ]
  },
  {
   "cell_type": "markdown",
   "id": "1590dc99",
   "metadata": {},
   "source": [
    "Wyliczenie współczynnika punktowo-dwuseryjnego w celu sprawdzenia korelacji pomiędzy zmiennymi objaśniajacymi X, a zmienną objaśnianą Y"
   ]
  },
  {
   "cell_type": "code",
   "execution_count": 29,
   "id": "f33b6ff6",
   "metadata": {},
   "outputs": [
    {
     "data": {
      "text/plain": [
       "Pregnancies               0.407315\n",
       "Age                       0.342605\n",
       "SerumInsulin              0.247375\n",
       "BMI                       0.210508\n",
       "DiabetesPedigree          0.170302\n",
       "TricepsThickness          0.152505\n",
       "PlasmaGlucose             0.128004\n",
       "DiastolicBloodPressure    0.091307\n",
       "dtype: float64"
      ]
     },
     "execution_count": 29,
     "metadata": {},
     "output_type": "execute_result"
    }
   ],
   "source": [
    "from scipy import stats\n",
    "\n",
    "corr_dict = {}\n",
    "for col in num_features1:\n",
    "    corr_dict[col] = stats.pointbiserialr(X[col], y)[0]\n",
    "pd.Series(corr_dict).sort_values(ascending=False)"
   ]
  },
  {
   "cell_type": "markdown",
   "id": "db99f838",
   "metadata": {},
   "source": [
    "Z powyższego wynika, że nasilniejsza korelacja zachodzi pomiędzy zmienną objaśnianą y, a zmiennymi objaśniającymi X takimi jak: Pregnancies, Age, SerumInsulin, BMI. Dlatego też w dalszych wyliczeniach tylko te cztery będą brane pod uwagę."
   ]
  },
  {
   "cell_type": "code",
   "execution_count": 31,
   "id": "a1cdbe27",
   "metadata": {},
   "outputs": [],
   "source": [
    "num_features = ['Pregnancies', 'SerumInsulin', 'BMI', 'DiabetesPedigree', 'Age']"
   ]
  },
  {
   "cell_type": "markdown",
   "id": "04225576",
   "metadata": {},
   "source": [
    "Kolumna z danymi kategorycznymi"
   ]
  },
  {
   "cell_type": "code",
   "execution_count": 32,
   "id": "2512a80f",
   "metadata": {},
   "outputs": [],
   "source": [
    "cat_features = ['Diabetic']"
   ]
  },
  {
   "cell_type": "markdown",
   "id": "c8edf553",
   "metadata": {},
   "source": [
    "Stworzenie Pipeline dla zmiennych numerycznych i kategorycznych"
   ]
  },
  {
   "cell_type": "code",
   "execution_count": 33,
   "id": "a1679ca4",
   "metadata": {},
   "outputs": [],
   "source": [
    "data_preparation = ColumnTransformer(transformers=[\n",
    "    ('numeric_preprocessing', num_features),\n",
    "    ('categorical_preprocessing', cat_features)\n",
    "])"
   ]
  },
  {
   "cell_type": "markdown",
   "id": "f0d45d4f",
   "metadata": {},
   "source": [
    "Połączenie Pipeline z modelem regresji logistycznej. Trenowanie modelu na zbiorze treningowym, a następnie prognozowanie na zbiorze testowym i ewaluacja"
   ]
  },
  {
   "cell_type": "code",
   "execution_count": 39,
   "id": "18c3395b",
   "metadata": {},
   "outputs": [],
   "source": [
    "num_features = ['Pregnancies', 'SerumInsulin', 'BMI', 'DiabetesPedigree', 'Age']\n",
    "cat_features = ['Diabetic']\n",
    "\n",
    "# transformer = wartości numeryczne oraz kategoryczne\n",
    "data_preparation = ColumnTransformer(transformers=[\n",
    "    ('numeric_preprocessing', num_features),\n",
    "    ('categorical_preprocessing', cat_features)\n",
    "])\n",
    "\n",
    "model_pipeline_v1 = Pipeline(steps=[('model', LogisticRegression(max_iter=10000))])"
   ]
  },
  {
   "cell_type": "code",
   "execution_count": 40,
   "id": "257f9262",
   "metadata": {},
   "outputs": [
    {
     "data": {
      "text/html": [
       "<style>#sk-container-id-6 {color: black;background-color: white;}#sk-container-id-6 pre{padding: 0;}#sk-container-id-6 div.sk-toggleable {background-color: white;}#sk-container-id-6 label.sk-toggleable__label {cursor: pointer;display: block;width: 100%;margin-bottom: 0;padding: 0.3em;box-sizing: border-box;text-align: center;}#sk-container-id-6 label.sk-toggleable__label-arrow:before {content: \"▸\";float: left;margin-right: 0.25em;color: #696969;}#sk-container-id-6 label.sk-toggleable__label-arrow:hover:before {color: black;}#sk-container-id-6 div.sk-estimator:hover label.sk-toggleable__label-arrow:before {color: black;}#sk-container-id-6 div.sk-toggleable__content {max-height: 0;max-width: 0;overflow: hidden;text-align: left;background-color: #f0f8ff;}#sk-container-id-6 div.sk-toggleable__content pre {margin: 0.2em;color: black;border-radius: 0.25em;background-color: #f0f8ff;}#sk-container-id-6 input.sk-toggleable__control:checked~div.sk-toggleable__content {max-height: 200px;max-width: 100%;overflow: auto;}#sk-container-id-6 input.sk-toggleable__control:checked~label.sk-toggleable__label-arrow:before {content: \"▾\";}#sk-container-id-6 div.sk-estimator input.sk-toggleable__control:checked~label.sk-toggleable__label {background-color: #d4ebff;}#sk-container-id-6 div.sk-label input.sk-toggleable__control:checked~label.sk-toggleable__label {background-color: #d4ebff;}#sk-container-id-6 input.sk-hidden--visually {border: 0;clip: rect(1px 1px 1px 1px);clip: rect(1px, 1px, 1px, 1px);height: 1px;margin: -1px;overflow: hidden;padding: 0;position: absolute;width: 1px;}#sk-container-id-6 div.sk-estimator {font-family: monospace;background-color: #f0f8ff;border: 1px dotted black;border-radius: 0.25em;box-sizing: border-box;margin-bottom: 0.5em;}#sk-container-id-6 div.sk-estimator:hover {background-color: #d4ebff;}#sk-container-id-6 div.sk-parallel-item::after {content: \"\";width: 100%;border-bottom: 1px solid gray;flex-grow: 1;}#sk-container-id-6 div.sk-label:hover label.sk-toggleable__label {background-color: #d4ebff;}#sk-container-id-6 div.sk-serial::before {content: \"\";position: absolute;border-left: 1px solid gray;box-sizing: border-box;top: 0;bottom: 0;left: 50%;z-index: 0;}#sk-container-id-6 div.sk-serial {display: flex;flex-direction: column;align-items: center;background-color: white;padding-right: 0.2em;padding-left: 0.2em;position: relative;}#sk-container-id-6 div.sk-item {position: relative;z-index: 1;}#sk-container-id-6 div.sk-parallel {display: flex;align-items: stretch;justify-content: center;background-color: white;position: relative;}#sk-container-id-6 div.sk-item::before, #sk-container-id-6 div.sk-parallel-item::before {content: \"\";position: absolute;border-left: 1px solid gray;box-sizing: border-box;top: 0;bottom: 0;left: 50%;z-index: -1;}#sk-container-id-6 div.sk-parallel-item {display: flex;flex-direction: column;z-index: 1;position: relative;background-color: white;}#sk-container-id-6 div.sk-parallel-item:first-child::after {align-self: flex-end;width: 50%;}#sk-container-id-6 div.sk-parallel-item:last-child::after {align-self: flex-start;width: 50%;}#sk-container-id-6 div.sk-parallel-item:only-child::after {width: 0;}#sk-container-id-6 div.sk-dashed-wrapped {border: 1px dashed gray;margin: 0 0.4em 0.5em 0.4em;box-sizing: border-box;padding-bottom: 0.4em;background-color: white;}#sk-container-id-6 div.sk-label label {font-family: monospace;font-weight: bold;display: inline-block;line-height: 1.2em;}#sk-container-id-6 div.sk-label-container {text-align: center;}#sk-container-id-6 div.sk-container {/* jupyter's `normalize.less` sets `[hidden] { display: none; }` but bootstrap.min.css set `[hidden] { display: none !important; }` so we also need the `!important` here to be able to override the default hidden behavior on the sphinx rendered scikit-learn.org. See: https://github.com/scikit-learn/scikit-learn/issues/21755 */display: inline-block !important;position: relative;}#sk-container-id-6 div.sk-text-repr-fallback {display: none;}</style><div id=\"sk-container-id-6\" class=\"sk-top-container\"><div class=\"sk-text-repr-fallback\"><pre>Pipeline(steps=[(&#x27;model&#x27;, LogisticRegression(max_iter=10000))])</pre><b>In a Jupyter environment, please rerun this cell to show the HTML representation or trust the notebook. <br />On GitHub, the HTML representation is unable to render, please try loading this page with nbviewer.org.</b></div><div class=\"sk-container\" hidden><div class=\"sk-item sk-dashed-wrapped\"><div class=\"sk-label-container\"><div class=\"sk-label sk-toggleable\"><input class=\"sk-toggleable__control sk-hidden--visually\" id=\"sk-estimator-id-23\" type=\"checkbox\" ><label for=\"sk-estimator-id-23\" class=\"sk-toggleable__label sk-toggleable__label-arrow\">Pipeline</label><div class=\"sk-toggleable__content\"><pre>Pipeline(steps=[(&#x27;model&#x27;, LogisticRegression(max_iter=10000))])</pre></div></div></div><div class=\"sk-serial\"><div class=\"sk-item\"><div class=\"sk-estimator sk-toggleable\"><input class=\"sk-toggleable__control sk-hidden--visually\" id=\"sk-estimator-id-24\" type=\"checkbox\" ><label for=\"sk-estimator-id-24\" class=\"sk-toggleable__label sk-toggleable__label-arrow\">LogisticRegression</label><div class=\"sk-toggleable__content\"><pre>LogisticRegression(max_iter=10000)</pre></div></div></div></div></div></div></div>"
      ],
      "text/plain": [
       "Pipeline(steps=[('model', LogisticRegression(max_iter=10000))])"
      ]
     },
     "execution_count": 40,
     "metadata": {},
     "output_type": "execute_result"
    }
   ],
   "source": [
    "model_pipeline_v1.fit(X_train, y_train)"
   ]
  },
  {
   "cell_type": "markdown",
   "id": "d4975a97",
   "metadata": {},
   "source": [
    "Ocena modelu v1 (z wykorzystaniem funkcji z modułu 14 pn. 'Supervised Learning - klasyfikacja')"
   ]
  },
  {
   "cell_type": "code",
   "execution_count": 41,
   "id": "eee3e8e7",
   "metadata": {},
   "outputs": [
    {
     "name": "stdout",
     "output_type": "stream",
     "text": [
      "              precision    recall  f1-score   support\n",
      "\n",
      "           0       0.67      1.00      0.80      2500\n",
      "           1       0.00      0.00      0.00      1250\n",
      "\n",
      "    accuracy                           0.67      3750\n",
      "   macro avg       0.33      0.50      0.40      3750\n",
      "weighted avg       0.44      0.67      0.53      3750\n",
      "\n"
     ]
    },
    {
     "name": "stderr",
     "output_type": "stream",
     "text": [
      "C:\\Users\\marta.zegota\\AppData\\Local\\Programs\\Python\\Python310\\lib\\site-packages\\sklearn\\metrics\\_classification.py:1327: UndefinedMetricWarning: Precision and F-score are ill-defined and being set to 0.0 in labels with no predicted samples. Use `zero_division` parameter to control this behavior.\n",
      "  _warn_prf(average, modifier, msg_start, len(result))\n",
      "C:\\Users\\marta.zegota\\AppData\\Local\\Programs\\Python\\Python310\\lib\\site-packages\\sklearn\\metrics\\_classification.py:1327: UndefinedMetricWarning: Precision and F-score are ill-defined and being set to 0.0 in labels with no predicted samples. Use `zero_division` parameter to control this behavior.\n",
      "  _warn_prf(average, modifier, msg_start, len(result))\n",
      "C:\\Users\\marta.zegota\\AppData\\Local\\Programs\\Python\\Python310\\lib\\site-packages\\sklearn\\metrics\\_classification.py:1327: UndefinedMetricWarning: Precision and F-score are ill-defined and being set to 0.0 in labels with no predicted samples. Use `zero_division` parameter to control this behavior.\n",
      "  _warn_prf(average, modifier, msg_start, len(result))\n"
     ]
    },
    {
     "data": {
      "image/png": "[encoded data removed]",
      "text/plain": [
       "<Figure size 432x288 with 2 Axes>"
      ]
     },
     "metadata": {
      "needs_background": "light"
     },
     "output_type": "display_data"
    },
    {
     "data": {
      "image/png": "[encoded data removed]",
      "text/plain": [
       "<Figure size 432x432 with 1 Axes>"
      ]
     },
     "metadata": {
      "needs_background": "light"
     },
     "output_type": "display_data"
    },
    {
     "name": "stderr",
     "output_type": "stream",
     "text": [
      "C:\\Users\\marta.zegota\\AppData\\Local\\Temp\\ipykernel_61684\\3082216382.py:43: FutureWarning: The frame.append method is deprecated and will be removed from pandas in a future version. Use pandas.concat instead.\n",
      "  metrics_dataframe = metrics_dataframe.append({'Model': name, 'F1_score': f1_metric, 'AUC': auc_metric},\n"
     ]
    },
    {
     "data": {
      "text/html": [
       "<div>\n",
       "<style scoped>\n",
       "    .dataframe tbody tr th:only-of-type {\n",
       "        vertical-align: middle;\n",
       "    }\n",
       "\n",
       "    .dataframe tbody tr th {\n",
       "        vertical-align: top;\n",
       "    }\n",
       "\n",
       "    .dataframe thead th {\n",
       "        text-align: right;\n",
       "    }\n",
       "</style>\n",
       "<table border=\"1\" class=\"dataframe\">\n",
       "  <thead>\n",
       "    <tr style=\"text-align: right;\">\n",
       "      <th></th>\n",
       "      <th>Model</th>\n",
       "      <th>F1_score</th>\n",
       "      <th>AUC</th>\n",
       "    </tr>\n",
       "  </thead>\n",
       "  <tbody>\n",
       "    <tr>\n",
       "      <th>0</th>\n",
       "      <td>Logistic Regression</td>\n",
       "      <td>0.0</td>\n",
       "      <td>0.514659</td>\n",
       "    </tr>\n",
       "  </tbody>\n",
       "</table>\n",
       "</div>"
      ],
      "text/plain": [
       "                 Model F1_score       AUC\n",
       "0  Logistic Regression      0.0  0.514659"
      ]
     },
     "execution_count": 41,
     "metadata": {},
     "output_type": "execute_result"
    }
   ],
   "source": [
    "metrics_dataframe = pd.DataFrame(columns = ['Model', 'F1_score', 'AUC'])\n",
    "metrics_dataframe\n",
    "models = []\n",
    "models_names = []\n",
    "predictions_proba_list = []\n",
    "\n",
    "def calculate_metrics(model, name, X_checked, y_checked):\n",
    "    models.append(model)\n",
    "    models_names.append(name)\n",
    "    global metrics_dataframe\n",
    "    predictions = model.predict(X_checked)\n",
    "    predictions_proba = model.predict_proba(X_checked)\n",
    "    predictions_proba_list.append(predictions_proba[:,1])\n",
    "\n",
    "    ############## metryki dla sprawdzanego modelu ################\n",
    "\n",
    "    # Precision, Recall, F1, Accuracy\n",
    "    print(classification_report(y_checked, predictions))\n",
    "\n",
    "    # Confusion matrix\n",
    "    plt.figure()\n",
    "    cm = confusion_matrix(y_checked, predictions)\n",
    "    ax = sns.heatmap(cm, annot=True, cmap='Blues', fmt='.0f')\n",
    "    ax.set_title('Confusion Matrix\\n\\n')\n",
    "    ax.set_xlabel('\\nPredicted Values')\n",
    "    ax.set_ylabel('Actual Values ')\n",
    "    plt.show()\n",
    "\n",
    "    # plot ROC curve\n",
    "    fig = plt.figure(figsize=(6, 6))\n",
    "    plt.plot([0, 1], [0, 1], 'k--')\n",
    "    for model_selected, name_selected, pred_proba in zip(models, models_names, predictions_proba_list):\n",
    "        fpr, tpr, thresholds = roc_curve(y_checked, pred_proba)\n",
    "        plt.plot(fpr, tpr, label=name_selected)\n",
    "    plt.xlabel('False Positive Rate')\n",
    "    plt.ylabel('True Positive Rate')\n",
    "    plt.title('ROC Curve')\n",
    "    plt.legend(loc='lower right')\n",
    "    plt.show()\n",
    "\n",
    "    f1_metric = f1_score(y_checked, predictions)\n",
    "    auc_metric = roc_auc_score(y_checked, predictions_proba[:,1])\n",
    "    metrics_dataframe = metrics_dataframe.append({'Model': name, 'F1_score': f1_metric, 'AUC': auc_metric},\n",
    "                                                 ignore_index=True)\n",
    "    return metrics_dataframe\n",
    "\n",
    "calculate_metrics(model_pipeline_v1, 'Logistic Regression', X_test, y_test)"
   ]
  },
  {
   "cell_type": "markdown",
   "id": "4cb407cb",
   "metadata": {},
   "source": [
    "Zależności mogą być nieliniowe dla zmiennych numerycznych, dlatego należy standaryzować zmienne numeryczne. Część zmiennych będzie ze sobą skorelowana i będzie niosła tę samą informację, dlatego stosuję PCA – analizę głównych składowych. Po jej wyniku dane nie muszą być wyskalowane, dlatego ponownie standaryzuję dane."
   ]
  },
  {
   "cell_type": "code",
   "execution_count": 42,
   "id": "7ae05bae",
   "metadata": {
    "scrolled": true
   },
   "outputs": [
    {
     "data": {
      "text/html": [
       "<style>#sk-container-id-7 {color: black;background-color: white;}#sk-container-id-7 pre{padding: 0;}#sk-container-id-7 div.sk-toggleable {background-color: white;}#sk-container-id-7 label.sk-toggleable__label {cursor: pointer;display: block;width: 100%;margin-bottom: 0;padding: 0.3em;box-sizing: border-box;text-align: center;}#sk-container-id-7 label.sk-toggleable__label-arrow:before {content: \"▸\";float: left;margin-right: 0.25em;color: #696969;}#sk-container-id-7 label.sk-toggleable__label-arrow:hover:before {color: black;}#sk-container-id-7 div.sk-estimator:hover label.sk-toggleable__label-arrow:before {color: black;}#sk-container-id-7 div.sk-toggleable__content {max-height: 0;max-width: 0;overflow: hidden;text-align: left;background-color: #f0f8ff;}#sk-container-id-7 div.sk-toggleable__content pre {margin: 0.2em;color: black;border-radius: 0.25em;background-color: #f0f8ff;}#sk-container-id-7 input.sk-toggleable__control:checked~div.sk-toggleable__content {max-height: 200px;max-width: 100%;overflow: auto;}#sk-container-id-7 input.sk-toggleable__control:checked~label.sk-toggleable__label-arrow:before {content: \"▾\";}#sk-container-id-7 div.sk-estimator input.sk-toggleable__control:checked~label.sk-toggleable__label {background-color: #d4ebff;}#sk-container-id-7 div.sk-label input.sk-toggleable__control:checked~label.sk-toggleable__label {background-color: #d4ebff;}#sk-container-id-7 input.sk-hidden--visually {border: 0;clip: rect(1px 1px 1px 1px);clip: rect(1px, 1px, 1px, 1px);height: 1px;margin: -1px;overflow: hidden;padding: 0;position: absolute;width: 1px;}#sk-container-id-7 div.sk-estimator {font-family: monospace;background-color: #f0f8ff;border: 1px dotted black;border-radius: 0.25em;box-sizing: border-box;margin-bottom: 0.5em;}#sk-container-id-7 div.sk-estimator:hover {background-color: #d4ebff;}#sk-container-id-7 div.sk-parallel-item::after {content: \"\";width: 100%;border-bottom: 1px solid gray;flex-grow: 1;}#sk-container-id-7 div.sk-label:hover label.sk-toggleable__label {background-color: #d4ebff;}#sk-container-id-7 div.sk-serial::before {content: \"\";position: absolute;border-left: 1px solid gray;box-sizing: border-box;top: 0;bottom: 0;left: 50%;z-index: 0;}#sk-container-id-7 div.sk-serial {display: flex;flex-direction: column;align-items: center;background-color: white;padding-right: 0.2em;padding-left: 0.2em;position: relative;}#sk-container-id-7 div.sk-item {position: relative;z-index: 1;}#sk-container-id-7 div.sk-parallel {display: flex;align-items: stretch;justify-content: center;background-color: white;position: relative;}#sk-container-id-7 div.sk-item::before, #sk-container-id-7 div.sk-parallel-item::before {content: \"\";position: absolute;border-left: 1px solid gray;box-sizing: border-box;top: 0;bottom: 0;left: 50%;z-index: -1;}#sk-container-id-7 div.sk-parallel-item {display: flex;flex-direction: column;z-index: 1;position: relative;background-color: white;}#sk-container-id-7 div.sk-parallel-item:first-child::after {align-self: flex-end;width: 50%;}#sk-container-id-7 div.sk-parallel-item:last-child::after {align-self: flex-start;width: 50%;}#sk-container-id-7 div.sk-parallel-item:only-child::after {width: 0;}#sk-container-id-7 div.sk-dashed-wrapped {border: 1px dashed gray;margin: 0 0.4em 0.5em 0.4em;box-sizing: border-box;padding-bottom: 0.4em;background-color: white;}#sk-container-id-7 div.sk-label label {font-family: monospace;font-weight: bold;display: inline-block;line-height: 1.2em;}#sk-container-id-7 div.sk-label-container {text-align: center;}#sk-container-id-7 div.sk-container {/* jupyter's `normalize.less` sets `[hidden] { display: none; }` but bootstrap.min.css set `[hidden] { display: none !important; }` so we also need the `!important` here to be able to override the default hidden behavior on the sphinx rendered scikit-learn.org. See: https://github.com/scikit-learn/scikit-learn/issues/21755 */display: inline-block !important;position: relative;}#sk-container-id-7 div.sk-text-repr-fallback {display: none;}</style><div id=\"sk-container-id-7\" class=\"sk-top-container\"><div class=\"sk-text-repr-fallback\"><pre>Pipeline(steps=[(&#x27;preprocessor&#x27;,\n",
       "                 ColumnTransformer(transformers=[(&#x27;numeric_preprocessing&#x27;,\n",
       "                                                  Pipeline(steps=[(&#x27;polynomial_features&#x27;,\n",
       "                                                                   PolynomialFeatures(degree=3)),\n",
       "                                                                  (&#x27;scaler_1&#x27;,\n",
       "                                                                   StandardScaler()),\n",
       "                                                                  (&#x27;pca&#x27;,\n",
       "                                                                   PCA(n_components=0.95)),\n",
       "                                                                  (&#x27;scaler_2&#x27;,\n",
       "                                                                   StandardScaler())]),\n",
       "                                                  [&#x27;Pregnancies&#x27;,\n",
       "                                                   &#x27;SerumInsulin&#x27;, &#x27;BMI&#x27;,\n",
       "                                                   &#x27;DiabetesPedigree&#x27;,\n",
       "                                                   &#x27;Age&#x27;])])),\n",
       "                (&#x27;model&#x27;, LogisticRegression(max_iter=10000))])</pre><b>In a Jupyter environment, please rerun this cell to show the HTML representation or trust the notebook. <br />On GitHub, the HTML representation is unable to render, please try loading this page with nbviewer.org.</b></div><div class=\"sk-container\" hidden><div class=\"sk-item sk-dashed-wrapped\"><div class=\"sk-label-container\"><div class=\"sk-label sk-toggleable\"><input class=\"sk-toggleable__control sk-hidden--visually\" id=\"sk-estimator-id-25\" type=\"checkbox\" ><label for=\"sk-estimator-id-25\" class=\"sk-toggleable__label sk-toggleable__label-arrow\">Pipeline</label><div class=\"sk-toggleable__content\"><pre>Pipeline(steps=[(&#x27;preprocessor&#x27;,\n",
       "                 ColumnTransformer(transformers=[(&#x27;numeric_preprocessing&#x27;,\n",
       "                                                  Pipeline(steps=[(&#x27;polynomial_features&#x27;,\n",
       "                                                                   PolynomialFeatures(degree=3)),\n",
       "                                                                  (&#x27;scaler_1&#x27;,\n",
       "                                                                   StandardScaler()),\n",
       "                                                                  (&#x27;pca&#x27;,\n",
       "                                                                   PCA(n_components=0.95)),\n",
       "                                                                  (&#x27;scaler_2&#x27;,\n",
       "                                                                   StandardScaler())]),\n",
       "                                                  [&#x27;Pregnancies&#x27;,\n",
       "                                                   &#x27;SerumInsulin&#x27;, &#x27;BMI&#x27;,\n",
       "                                                   &#x27;DiabetesPedigree&#x27;,\n",
       "                                                   &#x27;Age&#x27;])])),\n",
       "                (&#x27;model&#x27;, LogisticRegression(max_iter=10000))])</pre></div></div></div><div class=\"sk-serial\"><div class=\"sk-item sk-dashed-wrapped\"><div class=\"sk-label-container\"><div class=\"sk-label sk-toggleable\"><input class=\"sk-toggleable__control sk-hidden--visually\" id=\"sk-estimator-id-26\" type=\"checkbox\" ><label for=\"sk-estimator-id-26\" class=\"sk-toggleable__label sk-toggleable__label-arrow\">preprocessor: ColumnTransformer</label><div class=\"sk-toggleable__content\"><pre>ColumnTransformer(transformers=[(&#x27;numeric_preprocessing&#x27;,\n",
       "                                 Pipeline(steps=[(&#x27;polynomial_features&#x27;,\n",
       "                                                  PolynomialFeatures(degree=3)),\n",
       "                                                 (&#x27;scaler_1&#x27;, StandardScaler()),\n",
       "                                                 (&#x27;pca&#x27;,\n",
       "                                                  PCA(n_components=0.95)),\n",
       "                                                 (&#x27;scaler_2&#x27;,\n",
       "                                                  StandardScaler())]),\n",
       "                                 [&#x27;Pregnancies&#x27;, &#x27;SerumInsulin&#x27;, &#x27;BMI&#x27;,\n",
       "                                  &#x27;DiabetesPedigree&#x27;, &#x27;Age&#x27;])])</pre></div></div></div><div class=\"sk-parallel\"><div class=\"sk-parallel-item\"><div class=\"sk-item\"><div class=\"sk-label-container\"><div class=\"sk-label sk-toggleable\"><input class=\"sk-toggleable__control sk-hidden--visually\" id=\"sk-estimator-id-27\" type=\"checkbox\" ><label for=\"sk-estimator-id-27\" class=\"sk-toggleable__label sk-toggleable__label-arrow\">numeric_preprocessing</label><div class=\"sk-toggleable__content\"><pre>[&#x27;Pregnancies&#x27;, &#x27;SerumInsulin&#x27;, &#x27;BMI&#x27;, &#x27;DiabetesPedigree&#x27;, &#x27;Age&#x27;]</pre></div></div></div><div class=\"sk-serial\"><div class=\"sk-item\"><div class=\"sk-serial\"><div class=\"sk-item\"><div class=\"sk-estimator sk-toggleable\"><input class=\"sk-toggleable__control sk-hidden--visually\" id=\"sk-estimator-id-28\" type=\"checkbox\" ><label for=\"sk-estimator-id-28\" class=\"sk-toggleable__label sk-toggleable__label-arrow\">PolynomialFeatures</label><div class=\"sk-toggleable__content\"><pre>PolynomialFeatures(degree=3)</pre></div></div></div><div class=\"sk-item\"><div class=\"sk-estimator sk-toggleable\"><input class=\"sk-toggleable__control sk-hidden--visually\" id=\"sk-estimator-id-29\" type=\"checkbox\" ><label for=\"sk-estimator-id-29\" class=\"sk-toggleable__label sk-toggleable__label-arrow\">StandardScaler</label><div class=\"sk-toggleable__content\"><pre>StandardScaler()</pre></div></div></div><div class=\"sk-item\"><div class=\"sk-estimator sk-toggleable\"><input class=\"sk-toggleable__control sk-hidden--visually\" id=\"sk-estimator-id-30\" type=\"checkbox\" ><label for=\"sk-estimator-id-30\" class=\"sk-toggleable__label sk-toggleable__label-arrow\">PCA</label><div class=\"sk-toggleable__content\"><pre>PCA(n_components=0.95)</pre></div></div></div><div class=\"sk-item\"><div class=\"sk-estimator sk-toggleable\"><input class=\"sk-toggleable__control sk-hidden--visually\" id=\"sk-estimator-id-31\" type=\"checkbox\" ><label for=\"sk-estimator-id-31\" class=\"sk-toggleable__label sk-toggleable__label-arrow\">StandardScaler</label><div class=\"sk-toggleable__content\"><pre>StandardScaler()</pre></div></div></div></div></div></div></div></div></div></div><div class=\"sk-item\"><div class=\"sk-estimator sk-toggleable\"><input class=\"sk-toggleable__control sk-hidden--visually\" id=\"sk-estimator-id-32\" type=\"checkbox\" ><label for=\"sk-estimator-id-32\" class=\"sk-toggleable__label sk-toggleable__label-arrow\">LogisticRegression</label><div class=\"sk-toggleable__content\"><pre>LogisticRegression(max_iter=10000)</pre></div></div></div></div></div></div></div>"
      ],
      "text/plain": [
       "Pipeline(steps=[('preprocessor',\n",
       "                 ColumnTransformer(transformers=[('numeric_preprocessing',\n",
       "                                                  Pipeline(steps=[('polynomial_features',\n",
       "                                                                   PolynomialFeatures(degree=3)),\n",
       "                                                                  ('scaler_1',\n",
       "                                                                   StandardScaler()),\n",
       "                                                                  ('pca',\n",
       "                                                                   PCA(n_components=0.95)),\n",
       "                                                                  ('scaler_2',\n",
       "                                                                   StandardScaler())]),\n",
       "                                                  ['Pregnancies',\n",
       "                                                   'SerumInsulin', 'BMI',\n",
       "                                                   'DiabetesPedigree',\n",
       "                                                   'Age'])])),\n",
       "                ('model', LogisticRegression(max_iter=10000))])"
      ]
     },
     "execution_count": 42,
     "metadata": {},
     "output_type": "execute_result"
    }
   ],
   "source": [
    "num_features = ['Pregnancies', 'SerumInsulin', 'BMI', 'DiabetesPedigree', 'Age']\n",
    "cat_features = ['Diabetic']\n",
    "\n",
    "# przygotowanie wartości numerycznych\n",
    "num_preparation = Pipeline(steps=[\n",
    "    ('polynomial_features', PolynomialFeatures(degree=3)),\n",
    "    ('scaler_1', StandardScaler()),\n",
    "    ('pca', PCA(n_components=0.95)),\n",
    "    ('scaler_2', StandardScaler())\n",
    "])\n",
    "\n",
    "# transformer = wartości numeryczne oraz kategoryczne\n",
    "data_preparation = ColumnTransformer(transformers=[\n",
    "    ('numeric_preprocessing', num_preparation, num_features)\n",
    "])\n",
    "\n",
    "model_pipeline_v2 = Pipeline(steps=[('preprocessor', data_preparation),\n",
    "                                    ('model', LogisticRegression(max_iter=10000))])\n",
    "model_pipeline_v2.fit(X_train, y_train)"
   ]
  },
  {
   "cell_type": "markdown",
   "id": "ace83ac0",
   "metadata": {},
   "source": [
    "Ocena modelu v2"
   ]
  },
  {
   "cell_type": "code",
   "execution_count": 43,
   "id": "a4b61340",
   "metadata": {
    "scrolled": true
   },
   "outputs": [
    {
     "name": "stdout",
     "output_type": "stream",
     "text": [
      "              precision    recall  f1-score   support\n",
      "\n",
      "           0       0.79      0.91      0.85      2500\n",
      "           1       0.75      0.51      0.61      1250\n",
      "\n",
      "    accuracy                           0.78      3750\n",
      "   macro avg       0.77      0.71      0.73      3750\n",
      "weighted avg       0.77      0.78      0.77      3750\n",
      "\n"
     ]
    },
    {
     "data": {
      "image/png": "[encoded data removed]",
      "text/plain": [
       "<Figure size 432x288 with 2 Axes>"
      ]
     },
     "metadata": {
      "needs_background": "light"
     },
     "output_type": "display_data"
    },
    {
     "data": {
      "image/png": "[encoded data removed]",
      "text/plain": [
       "<Figure size 432x432 with 1 Axes>"
      ]
     },
     "metadata": {
      "needs_background": "light"
     },
     "output_type": "display_data"
    },
    {
     "name": "stderr",
     "output_type": "stream",
     "text": [
      "C:\\Users\\marta.zegota\\AppData\\Local\\Temp\\ipykernel_61684\\3082216382.py:43: FutureWarning: The frame.append method is deprecated and will be removed from pandas in a future version. Use pandas.concat instead.\n",
      "  metrics_dataframe = metrics_dataframe.append({'Model': name, 'F1_score': f1_metric, 'AUC': auc_metric},\n"
     ]
    },
    {
     "data": {
      "text/html": [
       "<div>\n",
       "<style scoped>\n",
       "    .dataframe tbody tr th:only-of-type {\n",
       "        vertical-align: middle;\n",
       "    }\n",
       "\n",
       "    .dataframe tbody tr th {\n",
       "        vertical-align: top;\n",
       "    }\n",
       "\n",
       "    .dataframe thead th {\n",
       "        text-align: right;\n",
       "    }\n",
       "</style>\n",
       "<table border=\"1\" class=\"dataframe\">\n",
       "  <thead>\n",
       "    <tr style=\"text-align: right;\">\n",
       "      <th></th>\n",
       "      <th>Model</th>\n",
       "      <th>F1_score</th>\n",
       "      <th>AUC</th>\n",
       "    </tr>\n",
       "  </thead>\n",
       "  <tbody>\n",
       "    <tr>\n",
       "      <th>0</th>\n",
       "      <td>Logistic Regression</td>\n",
       "      <td>0.0</td>\n",
       "      <td>0.514659</td>\n",
       "    </tr>\n",
       "    <tr>\n",
       "      <th>1</th>\n",
       "      <td>Logistic Regression - standaryzacja i PCA</td>\n",
       "      <td>0.60655</td>\n",
       "      <td>0.853468</td>\n",
       "    </tr>\n",
       "  </tbody>\n",
       "</table>\n",
       "</div>"
      ],
      "text/plain": [
       "                                       Model F1_score       AUC\n",
       "0                        Logistic Regression      0.0  0.514659\n",
       "1  Logistic Regression - standaryzacja i PCA  0.60655  0.853468"
      ]
     },
     "execution_count": 43,
     "metadata": {},
     "output_type": "execute_result"
    }
   ],
   "source": [
    "calculate_metrics(model_pipeline_v2, 'Logistic Regression - standaryzacja i PCA', X_test, y_test)"
   ]
  },
  {
   "cell_type": "markdown",
   "id": "2ebd53ca",
   "metadata": {},
   "source": [
    "Z powyższej ewaluacji widać, że po dodaniu etapów w procesie uczenia modelu wyniki znaczaco się poprawiły.\n",
    "Po zastosowaniu standaryzacji i analizy głównych składowych wyniki modelu również są lepsze od tych osiągniętych przy okazji trenowania modelu regresji logistycznej w module 14."
   ]
  },
  {
   "cell_type": "markdown",
   "id": "f051b269",
   "metadata": {},
   "source": [
    "# Zadanie 'hiperparametry'"
   ]
  },
  {
   "cell_type": "markdown",
   "id": "dc181e59",
   "metadata": {},
   "source": [
    "Utworzenie nowego modelu - z wyborem hiperparametrów"
   ]
  },
  {
   "cell_type": "code",
   "execution_count": 44,
   "id": "04521206",
   "metadata": {},
   "outputs": [],
   "source": [
    "model_pipeline_v3 = Pipeline(steps=[('preprocessor', data_preparation),\n",
    "                                    ('model', LogisticRegression(max_iter=10000))])"
   ]
  },
  {
   "cell_type": "markdown",
   "id": "0712fa61",
   "metadata": {},
   "source": [
    "Lista hiperparametrów modelu"
   ]
  },
  {
   "cell_type": "code",
   "execution_count": 21,
   "id": "15657f8d",
   "metadata": {},
   "outputs": [
    {
     "data": {
      "text/plain": [
       "['memory',\n",
       " 'steps',\n",
       " 'verbose',\n",
       " 'preprocessor',\n",
       " 'model',\n",
       " 'preprocessor__n_jobs',\n",
       " 'preprocessor__remainder',\n",
       " 'preprocessor__sparse_threshold',\n",
       " 'preprocessor__transformer_weights',\n",
       " 'preprocessor__transformers',\n",
       " 'preprocessor__verbose',\n",
       " 'preprocessor__verbose_feature_names_out',\n",
       " 'preprocessor__numeric_preprocessing',\n",
       " 'preprocessor__numeric_preprocessing__memory',\n",
       " 'preprocessor__numeric_preprocessing__steps',\n",
       " 'preprocessor__numeric_preprocessing__verbose',\n",
       " 'preprocessor__numeric_preprocessing__polynomial_features',\n",
       " 'preprocessor__numeric_preprocessing__scaler_1',\n",
       " 'preprocessor__numeric_preprocessing__pca',\n",
       " 'preprocessor__numeric_preprocessing__scaler_2',\n",
       " 'preprocessor__numeric_preprocessing__polynomial_features__degree',\n",
       " 'preprocessor__numeric_preprocessing__polynomial_features__include_bias',\n",
       " 'preprocessor__numeric_preprocessing__polynomial_features__interaction_only',\n",
       " 'preprocessor__numeric_preprocessing__polynomial_features__order',\n",
       " 'preprocessor__numeric_preprocessing__scaler_1__copy',\n",
       " 'preprocessor__numeric_preprocessing__scaler_1__with_mean',\n",
       " 'preprocessor__numeric_preprocessing__scaler_1__with_std',\n",
       " 'preprocessor__numeric_preprocessing__pca__copy',\n",
       " 'preprocessor__numeric_preprocessing__pca__iterated_power',\n",
       " 'preprocessor__numeric_preprocessing__pca__n_components',\n",
       " 'preprocessor__numeric_preprocessing__pca__n_oversamples',\n",
       " 'preprocessor__numeric_preprocessing__pca__power_iteration_normalizer',\n",
       " 'preprocessor__numeric_preprocessing__pca__random_state',\n",
       " 'preprocessor__numeric_preprocessing__pca__svd_solver',\n",
       " 'preprocessor__numeric_preprocessing__pca__tol',\n",
       " 'preprocessor__numeric_preprocessing__pca__whiten',\n",
       " 'preprocessor__numeric_preprocessing__scaler_2__copy',\n",
       " 'preprocessor__numeric_preprocessing__scaler_2__with_mean',\n",
       " 'preprocessor__numeric_preprocessing__scaler_2__with_std',\n",
       " 'model__C',\n",
       " 'model__class_weight',\n",
       " 'model__dual',\n",
       " 'model__fit_intercept',\n",
       " 'model__intercept_scaling',\n",
       " 'model__l1_ratio',\n",
       " 'model__max_iter',\n",
       " 'model__multi_class',\n",
       " 'model__n_jobs',\n",
       " 'model__penalty',\n",
       " 'model__random_state',\n",
       " 'model__solver',\n",
       " 'model__tol',\n",
       " 'model__verbose',\n",
       " 'model__warm_start']"
      ]
     },
     "execution_count": 21,
     "metadata": {},
     "output_type": "execute_result"
    }
   ],
   "source": [
    "list(model_pipeline_v3.get_params().keys())"
   ]
  },
  {
   "cell_type": "markdown",
   "id": "266816ae",
   "metadata": {},
   "source": [
    "Stworzenie GridSearch dla Pipeline z modelem, wybór parametrów i trenowanie modelu"
   ]
  },
  {
   "cell_type": "code",
   "execution_count": null,
   "id": "f8ce1322",
   "metadata": {},
   "outputs": [
    {
     "name": "stdout",
     "output_type": "stream",
     "text": [
      "Fitting 10 folds for each of 1000 candidates, totalling 10000 fits\n"
     ]
    }
   ],
   "source": [
    "params = {\n",
    "    'preprocessor__numeric_preprocessing__polynomial_features__degree': [1, 2, 3, 4],\n",
    "    'preprocessor__numeric_preprocessing__pca__n_components': [0.85, 0.90, 0.95, 0.99, 0.99999],\n",
    "    'model__C': np.logspace(-4, 4, 50)\n",
    "}\n",
    "\n",
    "grid_search = GridSearchCV(model_pipeline_v3, params, cv=10, n_jobs=-1, verbose=10, scoring='f1_macro')\n",
    "grid_search.fit(X_train, y_train)\n",
    "print('Wybrane hiperparametry: ', grid_search.best_params_)\n",
    "model_v3 = grid_search.best_estimator_"
   ]
  },
  {
   "cell_type": "markdown",
   "id": "decfc90c",
   "metadata": {},
   "source": [
    "Ocena modelu v3"
   ]
  },
  {
   "cell_type": "code",
   "execution_count": 23,
   "id": "7d38c02a",
   "metadata": {},
   "outputs": [
    {
     "name": "stdout",
     "output_type": "stream",
     "text": [
      "              precision    recall  f1-score   support\n",
      "\n",
      "           0       0.91      0.91      0.91      2500\n",
      "           1       0.83      0.83      0.83      1250\n",
      "\n",
      "    accuracy                           0.89      3750\n",
      "   macro avg       0.87      0.87      0.87      3750\n",
      "weighted avg       0.89      0.89      0.89      3750\n",
      "\n"
     ]
    },
    {
     "data": {
      "image/png": "[encoded data removed]",
      "text/plain": [
       "<Figure size 432x288 with 2 Axes>"
      ]
     },
     "metadata": {
      "needs_background": "light"
     },
     "output_type": "display_data"
    },
    {
     "data": {
      "image/png": "[encoded data removed]",
      "text/plain": [
       "<Figure size 432x432 with 1 Axes>"
      ]
     },
     "metadata": {
      "needs_background": "light"
     },
     "output_type": "display_data"
    },
    {
     "name": "stderr",
     "output_type": "stream",
     "text": [
      "C:\\Users\\marta.zegota\\AppData\\Local\\Temp\\ipykernel_61684\\3082216382.py:43: FutureWarning: The frame.append method is deprecated and will be removed from pandas in a future version. Use pandas.concat instead.\n",
      "  metrics_dataframe = metrics_dataframe.append({'Model': name, 'F1_score': f1_metric, 'AUC': auc_metric},\n"
     ]
    },
    {
     "data": {
      "text/html": [
       "<div>\n",
       "<style scoped>\n",
       "    .dataframe tbody tr th:only-of-type {\n",
       "        vertical-align: middle;\n",
       "    }\n",
       "\n",
       "    .dataframe tbody tr th {\n",
       "        vertical-align: top;\n",
       "    }\n",
       "\n",
       "    .dataframe thead th {\n",
       "        text-align: right;\n",
       "    }\n",
       "</style>\n",
       "<table border=\"1\" class=\"dataframe\">\n",
       "  <thead>\n",
       "    <tr style=\"text-align: right;\">\n",
       "      <th></th>\n",
       "      <th>Model</th>\n",
       "      <th>F1_score</th>\n",
       "      <th>AUC</th>\n",
       "    </tr>\n",
       "  </thead>\n",
       "  <tbody>\n",
       "    <tr>\n",
       "      <th>0</th>\n",
       "      <td>Logistic Regression</td>\n",
       "      <td>0.0</td>\n",
       "      <td>0.514659</td>\n",
       "    </tr>\n",
       "    <tr>\n",
       "      <th>1</th>\n",
       "      <td>Logistic Regression - standaryzacja i PCA</td>\n",
       "      <td>0.60655</td>\n",
       "      <td>0.853468</td>\n",
       "    </tr>\n",
       "    <tr>\n",
       "      <th>2</th>\n",
       "      <td>Logistic Regression - wybór hiperparametrów</td>\n",
       "      <td>0.828275</td>\n",
       "      <td>0.949755</td>\n",
       "    </tr>\n",
       "  </tbody>\n",
       "</table>\n",
       "</div>"
      ],
      "text/plain": [
       "                                         Model  F1_score       AUC\n",
       "0                          Logistic Regression       0.0  0.514659\n",
       "1    Logistic Regression - standaryzacja i PCA   0.60655  0.853468\n",
       "2  Logistic Regression - wybór hiperparametrów  0.828275  0.949755"
      ]
     },
     "execution_count": 23,
     "metadata": {},
     "output_type": "execute_result"
    }
   ],
   "source": [
    "calculate_metrics(model_v3, 'Logistic Regression - wybór hiperparametrów', X_test, y_test)"
   ]
  },
  {
   "cell_type": "markdown",
   "id": "0efa9c64",
   "metadata": {},
   "source": [
    "Wyniki są znacząco lepsze w przypadku modelu v3 z wyborem hiperparametrów w porównaniu do modelu v2 z narzuconymi konkretnymi wartościami."
   ]
  },
  {
   "cell_type": "code",
   "execution_count": null,
   "id": "ec0b5bfe",
   "metadata": {},
   "outputs": [],
   "source": []
  }
 ],
 "metadata": {
  "kernelspec": {
   "display_name": "Python 3 (ipykernel)",
   "language": "python",
   "name": "python3"
  },
  "language_info": {
   "codemirror_mode": {
    "name": "ipython",
    "version": 3
   },
   "file_extension": ".py",
   "mimetype": "text/x-python",
   "name": "python",
   "nbconvert_exporter": "python",
   "pygments_lexer": "ipython3",
   "version": "3.10.4"
  }
 },
 "nbformat": 4,
 "nbformat_minor": 5
}
